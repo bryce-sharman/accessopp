{
 "cells": [
  {
   "cell_type": "markdown",
   "id": "4f39871c-4496-43e3-a5f4-c4f9dd56aad2",
   "metadata": {},
   "source": [
    "# This script shows an example of finding grocery stores from OpenStreetMap."
   ]
  },
  {
   "cell_type": "code",
   "execution_count": 1,
   "id": "0e2e4937-86ae-482f-97ed-f8e3d5dd8957",
   "metadata": {},
   "outputs": [],
   "source": [
    "import geopandas as gpd\n",
    "import os\n",
    "import pandas as pd\n",
    "\n",
    "from shapely import wkt\n",
    "import sqlite3"
   ]
  },
  {
   "cell_type": "markdown",
   "id": "45a3ff74-4c9c-4a15-b107-f24f8bf9795e",
   "metadata": {},
   "source": [
    "# Add java and OSM to PATH\n",
    "\n",
    "In my installation I have several *osmosis* and *java* applications for testing, and hence I have not added them to the path. Hence I will set the path here before running command-line arguments."
   ]
  },
  {
   "cell_type": "code",
   "execution_count": null,
   "id": "067be341-d6d8-422a-8e69-9952fe8d22b5",
   "metadata": {},
   "outputs": [],
   "source": [
    "print(os.environ[\"PATH\"])"
   ]
  },
  {
   "cell_type": "code",
   "execution_count": null,
   "id": "c51023aa-2e7d-4359-a819-c9e6d4b79625",
   "metadata": {},
   "outputs": [],
   "source": [
    "os.environ[\"PATH\"] = r\"C:\\Program Files\\Microsoft\\jdk-17.0.9.8-hotspot\\bin\" + os.pathsep + os.getenv(\"PATH\") + os.pathsep + r\"C:\\MyPrograms\\osmosis-0.49.2\\bin\""
   ]
  },
  {
   "cell_type": "code",
   "execution_count": null,
   "id": "1ec3524e-af8a-41a7-a452-87137aefbe93",
   "metadata": {},
   "outputs": [],
   "source": [
    "print(os.environ[\"PATH\"])"
   ]
  },
  {
   "cell_type": "markdown",
   "id": "41e74c95-4281-4015-b49c-f6604c79c759",
   "metadata": {},
   "source": [
    "# Now run *osmosis* to pull the points of interest from OSM\n",
    "\n",
    "**Note that some points of interest (POIs) are marked as nodes and some as polygons (ways) in OSM. Hence we need to pull both.\n",
    "\n",
    "The ! in Jupyter runs a command line program"
   ]
  },
  {
   "cell_type": "code",
   "execution_count": null,
   "id": "81cf6299-da76-4a3e-8027-2f82b44822fe",
   "metadata": {},
   "outputs": [],
   "source": [
    "%cd C:\\Users\\bsharma2\\AccessOpportunities\\osm\\20240118"
   ]
  },
  {
   "cell_type": "code",
   "execution_count": null,
   "id": "3c11488b-4c2a-4a45-aca7-92663a2ccdc3",
   "metadata": {},
   "outputs": [],
   "source": [
    "!osmosis --read-pbf peel-york-durham.osm.pbf --nkv keyValueList=\"shop.supermarket\",\"shop.grocery\",\"shop.food\",\"shop.greengrocer\" --wb grocery_nodes.osm.pbf "
   ]
  },
  {
   "cell_type": "code",
   "execution_count": null,
   "id": "b283d973-3b7b-46b9-8824-96f4ad4d8bdb",
   "metadata": {},
   "outputs": [],
   "source": [
    "!osmosis --read-pbf peel-york-durham.osm.pbf --wkv keyValueList=\"shop.supermarket\",\"shop.grocery\",\"shop.food\",\"shop.greengrocer\" --used-node --wb grocery_ways.osm.pbf "
   ]
  },
  {
   "cell_type": "markdown",
   "id": "67dc7bc8-19a1-44ee-bc99-49fe3737f1d0",
   "metadata": {},
   "source": [
    "# Now process the output"
   ]
  },
  {
   "cell_type": "markdown",
   "id": "9d7f6204-3d95-49a7-bd92-20eda7eff2bb",
   "metadata": {},
   "source": [
    "## Version 1 -- export to shapefiles\n",
    "\n",
    "When reading OSM files into QGIS, it only reads the first 100 entries. Hence if we want to do this then we need to export to a shapefile first. We can do this using the `ogr2ogr`, which fortunately is included in the r5py environment that we're using here."
   ]
  },
  {
   "cell_type": "code",
   "execution_count": null,
   "id": "33354690-504d-446e-a318-943c6c0b8283",
   "metadata": {},
   "outputs": [],
   "source": [
    "# !ogr2ogr -f \"ESRI Shapefile\" grocery_nodes.shp grocery_nodes.osm.pbf points"
   ]
  },
  {
   "cell_type": "code",
   "execution_count": null,
   "id": "6100f549-285f-4e69-ba20-158b111956a4",
   "metadata": {},
   "outputs": [],
   "source": [
    "# !ogr2ogr -f \"ESRI Shapefile\" grocery_ways.shp grocery_ways.osm.pbf multipolygons"
   ]
  },
  {
   "cell_type": "markdown",
   "id": "1b67eefa-e895-48e6-92b1-7e2502b747fc",
   "metadata": {},
   "source": [
    "## Version 2 -- export to SQLite, which we'll read into geopandas\n",
    "\n",
    "Alternately, we can read these files directly into pandas and geopandas.  Following the example from https://python.plainenglish.io/exploring-openstreetmap-data-using-geopandas-d62b55fc40a4, I will use a SQLite as the intermediate format.\n",
    "\n",
    "Note that the table from an OSM export are are: 'geometry_columns', 'spatial_ref_sys'  'points', 'line', 'multilinestri', 'multipoly', 'other_relans'\n",
    "\n",
    "We need the 'points' table for the node tags and the 'multipoly' table for the ways tags."
   ]
  },
  {
   "cell_type": "code",
   "execution_count": null,
   "id": "2ad84d7a-3754-4fd6-aba5-7270bf5b88b5",
   "metadata": {},
   "outputs": [],
   "source": [
    "!ogr2ogr -f SQLite -lco FORMAT=WKT grocery_nodes.sqlite grocery_nodes.osm.pbf"
   ]
  },
  {
   "cell_type": "code",
   "execution_count": null,
   "id": "ffa90872-4db6-457b-a2a1-64954898739a",
   "metadata": {},
   "outputs": [],
   "source": [
    "!ogr2ogr -f SQLite -lco FORMAT=WKT grocery_ways.sqlite grocery_ways.osm.pbf"
   ]
  },
  {
   "cell_type": "markdown",
   "id": "0e377a72-d575-4fc5-8cb4-72c5a772027f",
   "metadata": {},
   "source": [
    "### Read in the nodes file from SQLite into (geo)pandas\n",
    "\n",
    "Note that I'm only bringing select columns into the DataFrame"
   ]
  },
  {
   "cell_type": "code",
   "execution_count": null,
   "id": "c80bff50-83b9-487b-a894-e9357e5e6e5a",
   "metadata": {},
   "outputs": [],
   "source": [
    "df_nodes = pd.read_sql(f\"SELECT ogc_fid, WKT_GEOMETRY, name FROM points;\", sqlite3.connect(\"./grocery_nodes.sqlite\"))"
   ]
  },
  {
   "cell_type": "code",
   "execution_count": null,
   "id": "390b30ae-182b-432b-a416-cab9dee7263a",
   "metadata": {},
   "outputs": [],
   "source": [
    "df_nodes['geom'] = gpd.GeoSeries.from_wkt(df_nodes['WKT_GEOMETRY'])\n",
    "df_nodes = df_nodes.drop('WKT_GEOMETRY', axis=1)\n",
    "df_nodes = df_nodes.set_index('ogc_fid')\n",
    "gdf_nodes = gpd.GeoDataFrame(df_nodes, geometry='geom')\n",
    "print(gdf_nodes.shape)"
   ]
  },
  {
   "cell_type": "markdown",
   "id": "d7a33bff-6ffc-4f86-8946-f9ee500e32dd",
   "metadata": {},
   "source": [
    "### Read in the ways file from SQLite into (geo)pandas"
   ]
  },
  {
   "cell_type": "code",
   "execution_count": null,
   "id": "b22054ff-02cb-4208-b053-e51f0add9e33",
   "metadata": {},
   "outputs": [],
   "source": [
    "df_ways = pd.read_sql(f\"SELECT ogc_fid, WKT_GEOMETRY, name FROM multipolygons;\", sqlite3.connect(\"./grocery_ways.sqlite\"))"
   ]
  },
  {
   "cell_type": "code",
   "execution_count": null,
   "id": "a8a52fab-01c7-4700-ac7b-f4d37ffc8c11",
   "metadata": {},
   "outputs": [],
   "source": [
    "df_ways['geom'] = gpd.GeoSeries.from_wkt(df_ways['WKT_GEOMETRY'])\n",
    "df_ways = df_ways.drop('WKT_GEOMETRY', axis=1)\n",
    "df_ways = df_ways.set_index('ogc_fid')\n",
    "gdf_ways = gpd.GeoDataFrame(df_ways, geometry='geom')\n",
    "print(gdf_ways.shape)"
   ]
  },
  {
   "cell_type": "markdown",
   "id": "dc262f31-04c2-40d7-8702-41c4b437eb87",
   "metadata": {},
   "source": [
    "### Combine the nodes and ways tags into a single DataFrame\n",
    "\n",
    "Steps:\n",
    "1. Find the representative point for each way polygon, and set this as the geometry\n",
    "2. Combine the dataframes together. I only know how to do this using pandas commands, hence\n",
    "3. Reset as GeoDataFrame"
   ]
  },
  {
   "cell_type": "code",
   "execution_count": null,
   "id": "ebd4553d-f3f7-4028-9d9e-60faa7e2fe17",
   "metadata": {},
   "outputs": [],
   "source": [
    "gdf_ways['repr_pt'] = gdf_ways.geom.representative_point()\n",
    "gdf_ways = gdf_ways.set_geometry('repr_pt')\n",
    "gdf_ways = gdf_ways.drop('geom', axis=1)\n",
    "gdf_ways = gdf_ways.rename({'repr_pt': 'geom'}, axis=1)"
   ]
  },
  {
   "cell_type": "code",
   "execution_count": null,
   "id": "5b45ed32-d30c-44cb-9386-667c2f6421fa",
   "metadata": {},
   "outputs": [],
   "source": [
    "gdf_ways.head()"
   ]
  },
  {
   "cell_type": "code",
   "execution_count": null,
   "id": "3d60dc73-b253-485a-aba0-361ff922d4b5",
   "metadata": {},
   "outputs": [],
   "source": [
    "gdf_nodes.head()"
   ]
  },
  {
   "cell_type": "code",
   "execution_count": null,
   "id": "14b5056e-d626-49d8-8f5d-1fdbb797a867",
   "metadata": {},
   "outputs": [],
   "source": [
    "combined_df = pd.concat([gdf_nodes, gdf_ways], axis=0).reset_index()"
   ]
  },
  {
   "cell_type": "code",
   "execution_count": null,
   "id": "f32fb01e-d5bc-4db4-be3b-7bd81ad69876",
   "metadata": {},
   "outputs": [],
   "source": [
    "combined_gdf = gpd.GeoDataFrame(combined_df, geometry='geom')"
   ]
  },
  {
   "cell_type": "code",
   "execution_count": null,
   "id": "888ab713-865f-44e1-9344-3a28efd0b303",
   "metadata": {},
   "outputs": [],
   "source": [
    "combined_gdf"
   ]
  },
  {
   "cell_type": "markdown",
   "id": "101b8d10-dc6e-443f-b91a-97b40345f1fe",
   "metadata": {},
   "source": [
    "## We're done, export to file"
   ]
  },
  {
   "cell_type": "code",
   "execution_count": null,
   "id": "5260136e-deda-45b8-be75-d9483a492bc9",
   "metadata": {},
   "outputs": [],
   "source": [
    "combined_gdf.to_csv(\"osm_grocery_stores.csv\")"
   ]
  }
 ],
 "metadata": {
  "kernelspec": {
   "display_name": "Python 3 (ipykernel)",
   "language": "python",
   "name": "python3"
  },
  "language_info": {
   "codemirror_mode": {
    "name": "ipython",
    "version": 3
   },
   "file_extension": ".py",
   "mimetype": "text/x-python",
   "name": "python",
   "nbconvert_exporter": "python",
   "pygments_lexer": "ipython3",
   "version": "3.11.7"
  }
 },
 "nbformat": 4,
 "nbformat_minor": 5
}
