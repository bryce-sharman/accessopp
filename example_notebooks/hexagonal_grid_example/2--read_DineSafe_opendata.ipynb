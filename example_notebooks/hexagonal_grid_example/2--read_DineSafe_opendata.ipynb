{
 "cells": [
  {
   "cell_type": "markdown",
   "id": "2bb69e57-8ab7-44dd-9999-8755daedc5b4",
   "metadata": {},
   "source": [
    "# Read DineSafe Open Data for Grocery Store Locations\n",
    "\n",
    "Data on DineSafe inspections are provided on the City of Toronto's OpenData website. \n",
    "\n",
    "This script provides an example of how to read this data in using pandas, and then save as a shapefile for future processing.\n",
    "\n",
    "In this example we'll use all supermarkets (even 7-Elevens) to be consistent with DineSafe's categorization. "
   ]
  },
  {
   "cell_type": "code",
   "execution_count": null,
   "id": "be4b021d-a09f-4267-849b-a11ac8e1f3e3",
   "metadata": {},
   "outputs": [],
   "source": [
    "import geopandas as gpd\n",
    "import pandas as pd\n",
    "from pathlib import Path"
   ]
  },
  {
   "cell_type": "code",
   "execution_count": null,
   "id": "a1cf19e0-8934-441d-9f1f-7db2cbad1499",
   "metadata": {},
   "outputs": [],
   "source": [
    "root_dir = Path(r\"C:\\Access To Opportunities\")\n",
    "data_root_dir = root_dir / \"Data\"\n",
    "\n",
    "# DineSafe establishments, as downloaded from City of Toronto Open Data\n",
    "dinesafe_fp = data_root_dir / \"Dinesafe\" / \"2024-02-06\" / \"Dinesafe.csv\"\n",
    "\n",
    "# Create a working directory to hold files\n",
    "working_dir = root_dir / \"working\"\n",
    "working_dir.mkdir(exist_ok=True)\n",
    "\n",
    "wgs84_proj_str = \"EPSG:4326\"\n",
    "cot_proj_str = \"EPSG:2952\""
   ]
  },
  {
   "cell_type": "code",
   "execution_count": null,
   "id": "638996cd-6545-4c61-b148-0027589f3958",
   "metadata": {},
   "outputs": [],
   "source": [
    "# Read DineSafe data into pandas DataFrame\n",
    "df = pd.read_csv(dinesafe_fp, usecols=['Establishment ID', 'Establishment Name', 'Establishment Type', 'Latitude', 'Longitude'])"
   ]
  },
  {
   "cell_type": "code",
   "execution_count": null,
   "id": "330b1819-a907-4709-a6f4-cf19457ff083",
   "metadata": {},
   "outputs": [],
   "source": [
    "# Filter out all records that are not supermarkets\n",
    "df = df.loc[df['Establishment Type'] == 'Supermarket']"
   ]
  },
  {
   "cell_type": "code",
   "execution_count": null,
   "id": "2f524065-1c15-4fad-ab74-1bd4e13908bd",
   "metadata": {},
   "outputs": [],
   "source": [
    "# Remove duplicates to keep only one record per establishment\n",
    "df = df.drop_duplicates(subset=['Establishment ID'])"
   ]
  },
  {
   "cell_type": "code",
   "execution_count": null,
   "id": "49290c1d-aa12-4f90-95b8-f510e426a2a8",
   "metadata": {},
   "outputs": [],
   "source": [
    "# Rename columns to keep within 10-character limit of shapefiles\n",
    "df = df.rename({'Establishment ID': 'id', 'Establishment Name': 'name', 'Establishment Type': 'type'}, axis=1)"
   ]
  },
  {
   "cell_type": "code",
   "execution_count": null,
   "id": "2aab73cb-2cd0-4ee7-96fa-0a5ffe7bf932",
   "metadata": {},
   "outputs": [],
   "source": [
    "# Convert to a pandas GeoDataFrame\n",
    "gdf = gpd.GeoDataFrame(\n",
    "    df, \n",
    "    geometry=gpd.points_from_xy(df.Longitude, df.Latitude), \n",
    "    crs=\"EPSG:4326\"\n",
    ")"
   ]
  },
  {
   "cell_type": "code",
   "execution_count": null,
   "id": "1c2537e2-74d6-48b8-8f51-269392cc26a8",
   "metadata": {},
   "outputs": [],
   "source": [
    "# We don't need the original latitude and longitude columns anymore\n",
    "gdf = gdf.drop(['Latitude', 'Longitude'], axis=1)"
   ]
  },
  {
   "cell_type": "code",
   "execution_count": null,
   "id": "dc5358d1-6683-4644-ad73-14361a5940d7",
   "metadata": {},
   "outputs": [],
   "source": [
    "# Project to the City of Toronto's preferred projection system\n",
    "gdf = gdf.to_crs(cot_proj_str)"
   ]
  },
  {
   "cell_type": "code",
   "execution_count": null,
   "id": "b557f8f2-3def-46bb-b86e-f47e159dc01f",
   "metadata": {},
   "outputs": [],
   "source": [
    "# Export to shapefile\n",
    "gdf.to_file(working_dir / \"dinesafe_supermarkets.shp\", index=False)"
   ]
  },
  {
   "cell_type": "code",
   "execution_count": null,
   "id": "31a89bde-6514-46ce-85d3-667a190fd80b",
   "metadata": {},
   "outputs": [],
   "source": []
  }
 ],
 "metadata": {
  "kernelspec": {
   "display_name": "Python 3 (ipykernel)",
   "language": "python",
   "name": "python3"
  },
  "language_info": {
   "codemirror_mode": {
    "name": "ipython",
    "version": 3
   },
   "file_extension": ".py",
   "mimetype": "text/x-python",
   "name": "python",
   "nbconvert_exporter": "python",
   "pygments_lexer": "ipython3",
   "version": "3.11.7"
  }
 },
 "nbformat": 4,
 "nbformat_minor": 5
}
